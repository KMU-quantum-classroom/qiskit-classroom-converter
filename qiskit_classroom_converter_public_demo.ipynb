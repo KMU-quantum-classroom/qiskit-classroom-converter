{
 "nbformat": 4,
 "nbformat_minor": 0,
 "metadata": {
  "colab": {
   "provenance": [],
   "collapsed_sections": [
    "76uZNzjKuDQu",
    "w-MUw7vut9-E"
   ]
  },
  "kernelspec": {
   "name": "python3",
   "language": "python",
   "display_name": "Python 3 (ipykernel)"
  },
  "language_info": {
   "name": "python"
  }
 },
 "cells": [
  {
   "cell_type": "markdown",
   "source": [
    "# setting"
   ],
   "metadata": {
    "id": "w-MUw7vut9-E"
   }
  },
  {
   "cell_type": "code",
   "source": [
    "import warnings\n",
    "\n",
    "from loguru import logger\n",
    "from qiskit import QuantumCircuit, transpile\n",
    "from qiskit_aer import AerSimulator\n",
    "\n",
    "from qiskit_class_converter import ConversionService, ConversionType, __FULL_VERSION__\n",
    "\n",
    "warnings.filterwarnings('ignore')"
   ],
   "metadata": {
    "id": "fdwkFKE4uA6-",
    "ExecuteTime": {
     "end_time": "2023-08-26T10:12:55.045704Z",
     "start_time": "2023-08-26T10:12:54.993615Z"
    }
   },
   "execution_count": 3,
   "outputs": []
  },
  {
   "cell_type": "markdown",
   "source": [
    "# version"
   ],
   "metadata": {
    "id": "t7fiSpm9ameO"
   }
  },
  {
   "cell_type": "code",
   "source": [
    "__FULL_VERSION__"
   ],
   "metadata": {
    "colab": {
     "base_uri": "https://localhost:8080/"
    },
    "id": "ZumlvyliaonW",
    "outputId": "65a73f02-8c38-4458-f89d-60fb809f7e13",
    "ExecuteTime": {
     "end_time": "2023-08-26T10:12:55.046990Z",
     "start_time": "2023-08-26T10:12:55.001830Z"
    }
   },
   "execution_count": 4,
   "outputs": [
    {
     "data": {
      "text/plain": "{'Qiskit': '0.44.1', 'Lib': '0.2.0.dev0'}"
     },
     "execution_count": 4,
     "metadata": {},
     "output_type": "execute_result"
    }
   ]
  },
  {
   "cell_type": "markdown",
   "source": [
    "# matrix to quantum circuit"
   ],
   "metadata": {
    "id": "h4D8U6PFuWsa"
   }
  },
  {
   "cell_type": "code",
   "source": [
    "input_value = [\n",
    "    [1, 0, 0, 0],\n",
    "    [0, 0, 0, 1],\n",
    "    [0, 0, 1, 0],\n",
    "    [0, 1, 0, 0]\n",
    "]\n",
    "sample_converter = ConversionService(conversion_type=\"MATRIX_TO_QC\", option={\"label\": \"CX gate\"})\n",
    "result = sample_converter.convert(input_value=input_value)\n",
    "quantum_circuit = QuantumCircuit(2, 2)\n",
    "quantum_circuit.x(0)\n",
    "quantum_circuit.append(result, [0, 1])\n",
    "quantum_circuit.measure(range(2), range(2))\n",
    "backend = AerSimulator()\n",
    "qc_compiled = transpile(quantum_circuit, backend)\n",
    "logger.info(\"\\n\" + str(quantum_circuit))"
   ],
   "metadata": {
    "colab": {
     "base_uri": "https://localhost:8080/"
    },
    "id": "VYy7W6ykuTOa",
    "outputId": "a5cc4ab4-1743-4589-e183-5de2f63718b5",
    "ExecuteTime": {
     "end_time": "2023-08-26T10:12:55.113990Z",
     "start_time": "2023-08-26T10:12:55.014413Z"
    }
   },
   "execution_count": 5,
   "outputs": [
    {
     "name": "stderr",
     "output_type": "stream",
     "text": [
      "\u001B[32m2023-08-26 19:12:55.011\u001B[0m | \u001B[34m\u001B[1mDEBUG   \u001B[0m | \u001B[36mqiskit_class_converter.converters.matrix_to_quantum_circuit\u001B[0m:\u001B[36mactual_convert_action\u001B[0m:\u001B[36m34\u001B[0m - \u001B[34m\u001B[1mmatrix to quantum circuit\u001B[0m\n",
      "\u001B[32m2023-08-26 19:12:55.049\u001B[0m | \u001B[1mINFO    \u001B[0m | \u001B[36m__main__\u001B[0m:\u001B[36m<module>\u001B[0m:\u001B[36m15\u001B[0m - \u001B[1m\n",
      "     ┌───┐┌──────────┐┌─┐   \n",
      "q_0: ┤ X ├┤0         ├┤M├───\n",
      "     └───┘│  CX gate │└╥┘┌─┐\n",
      "q_1: ─────┤1         ├─╫─┤M├\n",
      "          └──────────┘ ║ └╥┘\n",
      "c: 2/══════════════════╩══╩═\n",
      "                       0  1 \u001B[0m\n"
     ]
    }
   ]
  },
  {
   "cell_type": "markdown",
   "source": [
    "# quantum circuit to matrix"
   ],
   "metadata": {
    "id": "Q8_dqktVu_76"
   }
  },
  {
   "cell_type": "code",
   "source": [
    "quantum_circuit = QuantumCircuit(2, 2)\n",
    "quantum_circuit.x(0)\n",
    "quantum_circuit.cx(0, 1)\n",
    "sample_converter = ConversionService(conversion_type=\"QC_TO_MATRIX\")\n",
    "result = sample_converter.convert(input_value=quantum_circuit)\n",
    "for gate in result[\"gate\"]:\n",
    "    logger.info(\"\\n\" + str(gate.astype(int)))\n",
    "logger.info(\"list: \" + str(result[\"name\"]))\n",
    "result[\"result\"].astype(int)"
   ],
   "metadata": {
    "colab": {
     "base_uri": "https://localhost:8080/"
    },
    "id": "Kq20Y6hQu8v7",
    "outputId": "8fdc3160-c8b6-4318-f995-8508b6e61ba5",
    "ExecuteTime": {
     "end_time": "2023-08-26T10:12:55.116443Z",
     "start_time": "2023-08-26T10:12:55.060093Z"
    }
   },
   "execution_count": 6,
   "outputs": [
    {
     "name": "stderr",
     "output_type": "stream",
     "text": [
      "\u001B[32m2023-08-26 19:12:55.056\u001B[0m | \u001B[34m\u001B[1mDEBUG   \u001B[0m | \u001B[36mqiskit_class_converter.converters.quantum_circuit_to_matrix\u001B[0m:\u001B[36mactual_convert_action\u001B[0m:\u001B[36m35\u001B[0m - \u001B[34m\u001B[1mquantum circuit to matrix\u001B[0m\n",
      "\u001B[32m2023-08-26 19:12:55.062\u001B[0m | \u001B[1mINFO    \u001B[0m | \u001B[36m__main__\u001B[0m:\u001B[36m<module>\u001B[0m:\u001B[36m7\u001B[0m - \u001B[1m\n",
      "[[0 1 0 0]\n",
      " [1 0 0 0]\n",
      " [0 0 0 1]\n",
      " [0 0 1 0]]\u001B[0m\n",
      "\u001B[32m2023-08-26 19:12:55.063\u001B[0m | \u001B[1mINFO    \u001B[0m | \u001B[36m__main__\u001B[0m:\u001B[36m<module>\u001B[0m:\u001B[36m7\u001B[0m - \u001B[1m\n",
      "[[1 0 0 0]\n",
      " [0 0 0 1]\n",
      " [0 0 1 0]\n",
      " [0 1 0 0]]\u001B[0m\n",
      "\u001B[32m2023-08-26 19:12:55.064\u001B[0m | \u001B[1mINFO    \u001B[0m | \u001B[36m__main__\u001B[0m:\u001B[36m<module>\u001B[0m:\u001B[36m8\u001B[0m - \u001B[1mlist: ['x', 'cx']\u001B[0m\n"
     ]
    },
    {
     "data": {
      "text/plain": "array([[0, 1, 0, 0],\n       [0, 0, 1, 0],\n       [0, 0, 0, 1],\n       [1, 0, 0, 0]])"
     },
     "execution_count": 6,
     "metadata": {},
     "output_type": "execute_result"
    }
   ]
  },
  {
   "cell_type": "markdown",
   "source": [
    "# quantum circuit to matrix (print: raw option) - added ver. 0.1.0"
   ],
   "metadata": {
    "id": "ackRqqsEUTbT"
   }
  },
  {
   "cell_type": "code",
   "source": [
    "# quantum circuit to matrix (for print: raw option)\n",
    "quantum_circuit = QuantumCircuit(2, 2)\n",
    "quantum_circuit.x(0)\n",
    "quantum_circuit.cx(0, 1)\n",
    "sample_converter = ConversionService(conversion_type=\"QC_TO_MATRIX\", option={\"print\": \"raw\"})\n",
    "result = sample_converter.convert(input_value=quantum_circuit)\n",
    "for gate in result[\"gate\"]:\n",
    "    logger.info(gate)\n",
    "\n",
    "logger.info(result[\"result\"])\n",
    "from IPython.display import Latex\n",
    "Latex(result[\"result\"])"
   ],
   "metadata": {
    "colab": {
     "base_uri": "https://localhost:8080/",
     "height": 574
    },
    "id": "VassyxSGTkAf",
    "outputId": "e083dd84-0cd9-4210-c732-d3c8957ce04d",
    "ExecuteTime": {
     "end_time": "2023-08-26T10:12:55.118501Z",
     "start_time": "2023-08-26T10:12:55.075894Z"
    }
   },
   "execution_count": 7,
   "outputs": [
    {
     "name": "stderr",
     "output_type": "stream",
     "text": [
      "\u001B[32m2023-08-26 19:12:55.072\u001B[0m | \u001B[34m\u001B[1mDEBUG   \u001B[0m | \u001B[36mqiskit_class_converter.converters.quantum_circuit_to_matrix\u001B[0m:\u001B[36mactual_convert_action\u001B[0m:\u001B[36m35\u001B[0m - \u001B[34m\u001B[1mquantum circuit to matrix\u001B[0m\n",
      "\u001B[32m2023-08-26 19:12:55.097\u001B[0m | \u001B[1mINFO    \u001B[0m | \u001B[36m__main__\u001B[0m:\u001B[36m<module>\u001B[0m:\u001B[36m8\u001B[0m - \u001B[1m\n",
      "\n",
      "\\begin{bmatrix}\n",
      "0 & 1 & 0 & 0  \\\\\n",
      " 1 & 0 & 0 & 0  \\\\\n",
      " 0 & 0 & 0 & 1  \\\\\n",
      " 0 & 0 & 1 & 0  \\\\\n",
      " \\end{bmatrix}\n",
      "\u001B[0m\n",
      "\u001B[32m2023-08-26 19:12:55.098\u001B[0m | \u001B[1mINFO    \u001B[0m | \u001B[36m__main__\u001B[0m:\u001B[36m<module>\u001B[0m:\u001B[36m8\u001B[0m - \u001B[1m\n",
      "\n",
      "\\begin{bmatrix}\n",
      "1 & 0 & 0 & 0  \\\\\n",
      " 0 & 0 & 0 & 1  \\\\\n",
      " 0 & 0 & 1 & 0  \\\\\n",
      " 0 & 1 & 0 & 0  \\\\\n",
      " \\end{bmatrix}\n",
      "\u001B[0m\n",
      "\u001B[32m2023-08-26 19:12:55.099\u001B[0m | \u001B[1mINFO    \u001B[0m | \u001B[36m__main__\u001B[0m:\u001B[36m<module>\u001B[0m:\u001B[36m10\u001B[0m - \u001B[1m\n",
      "\n",
      "\\begin{bmatrix}\n",
      "0 & 1 & 0 & 0  \\\\\n",
      " 0 & 0 & 1 & 0  \\\\\n",
      " 0 & 0 & 0 & 1  \\\\\n",
      " 1 & 0 & 0 & 0  \\\\\n",
      " \\end{bmatrix}\n",
      "\u001B[0m\n"
     ]
    },
    {
     "data": {
      "text/plain": "<IPython.core.display.Latex object>",
      "text/latex": "\n\n\\begin{bmatrix}\n0 & 1 & 0 & 0  \\\\\n 0 & 0 & 1 & 0  \\\\\n 0 & 0 & 0 & 1  \\\\\n 1 & 0 & 0 & 0  \\\\\n \\end{bmatrix}\n"
     },
     "execution_count": 7,
     "metadata": {},
     "output_type": "execute_result"
    }
   ]
  },
  {
   "cell_type": "markdown",
   "source": [
    "# quantum circuit to bra-ket"
   ],
   "metadata": {
    "id": "Bs2c8d3Lvh_p"
   }
  },
  {
   "cell_type": "code",
   "source": [
    "quantum_circuit = QuantumCircuit(2, 2)\n",
    "quantum_circuit.h(0)\n",
    "quantum_circuit.x(0)\n",
    "quantum_circuit.cx(0, 1)\n",
    "sample_converter = ConversionService(conversion_type=\"QC_TO_BRA_KET\")\n",
    "result = sample_converter.convert(input_value=quantum_circuit)\n",
    "result"
   ],
   "metadata": {
    "colab": {
     "base_uri": "https://localhost:8080/",
     "height": 52
    },
    "id": "w9sh7KQyvgEO",
    "outputId": "de7a47db-8ea1-46fa-a1cf-bca178027fac",
    "ExecuteTime": {
     "end_time": "2023-08-26T10:12:55.393863Z",
     "start_time": "2023-08-26T10:12:55.112477Z"
    }
   },
   "execution_count": 8,
   "outputs": [
    {
     "name": "stderr",
     "output_type": "stream",
     "text": [
      "\u001B[32m2023-08-26 19:12:55.112\u001B[0m | \u001B[34m\u001B[1mDEBUG   \u001B[0m | \u001B[36mqiskit_class_converter.converters.quantum_circuit_to_braket_notation\u001B[0m:\u001B[36mactual_convert_action\u001B[0m:\u001B[36m37\u001B[0m - \u001B[34m\u001B[1mquantum circuit to bra-ket notation\u001B[0m\n"
     ]
    },
    {
     "data": {
      "text/plain": "'(sqrt(2)/2)*|0> + (sqrt(2)/2)*|11>'"
     },
     "execution_count": 8,
     "metadata": {},
     "output_type": "execute_result"
    }
   ]
  },
  {
   "cell_type": "markdown",
   "source": [
    "# quantum circuit to bra-ket (print: raw option) - added ver. 0.1.0"
   ],
   "metadata": {
    "id": "_5Wzd1AmUs_6"
   }
  },
  {
   "cell_type": "code",
   "source": [
    "quantum_circuit = QuantumCircuit(2, 2)\n",
    "quantum_circuit.h(0)\n",
    "quantum_circuit.x(0)\n",
    "quantum_circuit.cx(0, 1)\n",
    "sample_converter = ConversionService(conversion_type=\"QC_TO_BRA_KET\", option={\"print\": \"raw\"})\n",
    "result = sample_converter.convert(input_value=quantum_circuit)\n",
    "\n",
    "logger.info(result)\n",
    "from IPython.display import Math\n",
    "Math(result)"
   ],
   "metadata": {
    "colab": {
     "base_uri": "https://localhost:8080/",
     "height": 75
    },
    "id": "H5nlXMyAUxEt",
    "outputId": "5a593d26-4b8c-41a3-bddd-b4df282b82e3",
    "ExecuteTime": {
     "end_time": "2023-08-26T10:12:55.440633Z",
     "start_time": "2023-08-26T10:12:55.398432Z"
    }
   },
   "execution_count": 9,
   "outputs": [
    {
     "name": "stderr",
     "output_type": "stream",
     "text": [
      "\u001B[32m2023-08-26 19:12:55.394\u001B[0m | \u001B[34m\u001B[1mDEBUG   \u001B[0m | \u001B[36mqiskit_class_converter.converters.quantum_circuit_to_braket_notation\u001B[0m:\u001B[36mactual_convert_action\u001B[0m:\u001B[36m37\u001B[0m - \u001B[34m\u001B[1mquantum circuit to bra-ket notation\u001B[0m\n",
      "\u001B[32m2023-08-26 19:12:55.409\u001B[0m | \u001B[1mINFO    \u001B[0m | \u001B[36m__main__\u001B[0m:\u001B[36m<module>\u001B[0m:\u001B[36m8\u001B[0m - \u001B[1m\\frac{\\sqrt{2}}{2} |00\\rangle+\\frac{\\sqrt{2}}{2} |11\\rangle\u001B[0m\n"
     ]
    },
    {
     "data": {
      "text/plain": "<IPython.core.display.Math object>",
      "text/latex": "$\\displaystyle \\frac{\\sqrt{2}}{2} |00\\rangle+\\frac{\\sqrt{2}}{2} |11\\rangle$"
     },
     "execution_count": 9,
     "metadata": {},
     "output_type": "execute_result"
    }
   ]
  },
  {
   "cell_type": "markdown",
   "source": [
    "# string to bra-ket"
   ],
   "metadata": {
    "id": "EGFvXYn-zObl"
   }
  },
  {
   "cell_type": "code",
   "source": [
    "sample_converter = ConversionService(conversion_type=\"STR_TO_BRA_KET\")\n",
    "result = sample_converter.convert(input_value=\"sqrt(2)*|00>/2+sqrt(2)*|11>/2\")\n",
    "logger.info(result)"
   ],
   "metadata": {
    "colab": {
     "base_uri": "https://localhost:8080/"
    },
    "id": "r3VTttrnv7J4",
    "outputId": "ae7014f2-8c32-4fe2-d632-4665b79ac973",
    "ExecuteTime": {
     "end_time": "2023-08-26T10:12:55.441323Z",
     "start_time": "2023-08-26T10:12:55.420999Z"
    }
   },
   "execution_count": 10,
   "outputs": [
    {
     "name": "stderr",
     "output_type": "stream",
     "text": [
      "\u001B[32m2023-08-26 19:12:55.417\u001B[0m | \u001B[34m\u001B[1mDEBUG   \u001B[0m | \u001B[36mqiskit_class_converter.converters.string_to_braket_notation\u001B[0m:\u001B[36mactual_convert_action\u001B[0m:\u001B[36m120\u001B[0m - \u001B[34m\u001B[1mString to bra-ket notation\u001B[0m\n",
      "\u001B[32m2023-08-26 19:12:55.422\u001B[0m | \u001B[1mINFO    \u001B[0m | \u001B[36m__main__\u001B[0m:\u001B[36m<module>\u001B[0m:\u001B[36m3\u001B[0m - \u001B[1msqrt(2)*|00>/2 + sqrt(2)*|11>/2\u001B[0m\n"
     ]
    }
   ]
  },
  {
   "cell_type": "markdown",
   "source": [
    "# string to bra-ket (print: raw option) - added ver. 0.1.0"
   ],
   "metadata": {
    "id": "852Sim6tU9fs"
   }
  },
  {
   "cell_type": "code",
   "source": [
    "sample_converter = ConversionService(conversion_type=\"STR_TO_BRA_KET\", option={\"print\": \"raw\"})\n",
    "result = sample_converter.convert(input_value=\"sqrt(2)*|00>/2+sqrt(2)*|11>/2\")\n",
    "\n",
    "logger.info(result)\n",
    "from IPython.display import Math\n",
    "Math(result)"
   ],
   "metadata": {
    "colab": {
     "base_uri": "https://localhost:8080/",
     "height": 76
    },
    "id": "6vNNhP67U_vA",
    "outputId": "ada16afd-9730-4496-93cc-ba625ca6c045",
    "ExecuteTime": {
     "end_time": "2023-08-26T10:12:55.446534Z",
     "start_time": "2023-08-26T10:12:55.434570Z"
    }
   },
   "execution_count": 11,
   "outputs": [
    {
     "name": "stderr",
     "output_type": "stream",
     "text": [
      "\u001B[32m2023-08-26 19:12:55.431\u001B[0m | \u001B[34m\u001B[1mDEBUG   \u001B[0m | \u001B[36mqiskit_class_converter.converters.string_to_braket_notation\u001B[0m:\u001B[36mactual_convert_action\u001B[0m:\u001B[36m120\u001B[0m - \u001B[34m\u001B[1mString to bra-ket notation\u001B[0m\n",
      "\u001B[32m2023-08-26 19:12:55.436\u001B[0m | \u001B[1mINFO    \u001B[0m | \u001B[36m__main__\u001B[0m:\u001B[36m<module>\u001B[0m:\u001B[36m4\u001B[0m - \u001B[1m\\frac{\\sqrt{2} {\\left|00\\right\\rangle }}{2} + \\frac{\\sqrt{2} {\\left|11\\right\\rangle }}{2}\u001B[0m\n"
     ]
    },
    {
     "data": {
      "text/plain": "<IPython.core.display.Math object>",
      "text/latex": "$\\displaystyle \\frac{\\sqrt{2} {\\left|00\\right\\rangle }}{2} + \\frac{\\sqrt{2} {\\left|11\\right\\rangle }}{2}$"
     },
     "execution_count": 11,
     "metadata": {},
     "output_type": "execute_result"
    }
   ]
  }
 ]
}
